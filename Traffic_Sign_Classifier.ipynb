{
 "cells": [
  {
   "cell_type": "markdown",
   "metadata": {},
   "source": [
    "# Self-Driving Car Engineer Nanodegree\n",
    "\n",
    "## Deep Learning\n",
    "\n",
    "## Project: Build a Traffic Sign Recognition Classifier\n",
    "\n",
    "In this notebook, a template is provided for you to implement your functionality in stages, which is required to successfully complete this project. If additional code is required that cannot be included in the notebook, be sure that the Python code is successfully imported and included in your submission if necessary. \n",
    "\n",
    "> **Note**: Once you have completed all of the code implementations, you need to finalize your work by exporting the iPython Notebook as an HTML document. Before exporting the notebook to html, all of the code cells need to have been run so that reviewers can see the final implementation and output. You can then export the notebook by using the menu above and navigating to  \\n\",\n",
    "    \"**File -> Download as -> HTML (.html)**. Include the finished document along with this notebook as your submission. \n",
    "\n",
    "In addition to implementing code, there is a writeup to complete. The writeup should be completed in a separate file, which can be either a markdown file or a pdf document. There is a [write up template](https://github.com/udacity/CarND-Traffic-Sign-Classifier-Project/blob/master/writeup_template.md) that can be used to guide the writing process. Completing the code template and writeup template will cover all of the [rubric points](https://review.udacity.com/#!/rubrics/481/view) for this project.\n",
    "\n",
    "The [rubric](https://review.udacity.com/#!/rubrics/481/view) contains \"Stand Out Suggestions\" for enhancing the project beyond the minimum requirements. The stand out suggestions are optional. If you decide to pursue the \"stand out suggestions\", you can include the code in this Ipython notebook and also discuss the results in the writeup file.\n",
    "\n",
    "\n",
    ">**Note:** Code and Markdown cells can be executed using the **Shift + Enter** keyboard shortcut. In addition, Markdown cells can be edited by typically double-clicking the cell to enter edit mode."
   ]
  },
  {
   "cell_type": "markdown",
   "metadata": {},
   "source": [
    "---\n",
    "## Step 0: Load The Data"
   ]
  },
  {
   "cell_type": "code",
   "execution_count": 2,
   "metadata": {},
   "outputs": [],
   "source": [
    "# Load pickled data\n",
    "import pickle\n",
    "\n",
    "# TODO: Fill this in based on where you saved the training and testing data\n",
    "\n",
    "training_file = 'train.p'\n",
    "validation_file= 'valid.p'\n",
    "testing_file = 'test.p'\n",
    "\n",
    "with open(training_file, mode='rb') as f:\n",
    "    train = pickle.load(f)\n",
    "with open(validation_file, mode='rb') as f:\n",
    "    valid = pickle.load(f)\n",
    "with open(testing_file, mode='rb') as f:\n",
    "    test = pickle.load(f)\n",
    "    \n",
    "X_train, y_train = train['features'], train['labels']\n",
    "X_valid, y_valid = valid['features'], valid['labels']\n",
    "X_test, y_test = test['features'], test['labels']"
   ]
  },
  {
   "cell_type": "code",
   "execution_count": 3,
   "metadata": {},
   "outputs": [
    {
     "data": {
      "text/plain": [
       "(34799, 32, 32, 3)"
      ]
     },
     "execution_count": 3,
     "metadata": {},
     "output_type": "execute_result"
    }
   ],
   "source": [
    "X_train.shape\n",
    "\n"
   ]
  },
  {
   "cell_type": "code",
   "execution_count": 4,
   "metadata": {},
   "outputs": [
    {
     "data": {
      "text/plain": [
       "(4410, 32, 32, 3)"
      ]
     },
     "execution_count": 4,
     "metadata": {},
     "output_type": "execute_result"
    }
   ],
   "source": [
    "X_valid.shape"
   ]
  },
  {
   "cell_type": "code",
   "execution_count": 5,
   "metadata": {},
   "outputs": [
    {
     "data": {
      "text/plain": [
       "(12630, 32, 32, 3)"
      ]
     },
     "execution_count": 5,
     "metadata": {},
     "output_type": "execute_result"
    }
   ],
   "source": [
    "X_test.shape"
   ]
  },
  {
   "cell_type": "markdown",
   "metadata": {},
   "source": [
    "---\n",
    "\n",
    "## Step 1: Dataset Summary & Exploration\n",
    "\n",
    "The pickled data is a dictionary with 4 key/value pairs:\n",
    "\n",
    "- `'features'` is a 4D array containing raw pixel data of the traffic sign images, (num examples, width, height, channels).\n",
    "- `'labels'` is a 1D array containing the label/class id of the traffic sign. The file `signnames.csv` contains id -> name mappings for each id.\n",
    "- `'sizes'` is a list containing tuples, (width, height) representing the original width and height the image.\n",
    "- `'coords'` is a list containing tuples, (x1, y1, x2, y2) representing coordinates of a bounding box around the sign in the image. **THESE COORDINATES ASSUME THE ORIGINAL IMAGE. THE PICKLED DATA CONTAINS RESIZED VERSIONS (32 by 32) OF THESE IMAGES**\n",
    "\n",
    "Complete the basic data summary below. Use python, numpy and/or pandas methods to calculate the data summary rather than hard coding the results. For example, the [pandas shape method](http://pandas.pydata.org/pandas-docs/stable/generated/pandas.DataFrame.shape.html) might be useful for calculating some of the summary results. "
   ]
  },
  {
   "cell_type": "markdown",
   "metadata": {},
   "source": [
    "### Provide a Basic Summary of the Data Set Using Python, Numpy and/or Pandas"
   ]
  },
  {
   "cell_type": "code",
   "execution_count": 6,
   "metadata": {},
   "outputs": [
    {
     "name": "stdout",
     "output_type": "stream",
     "text": [
      "Number of training examples = 34799\n",
      "Number of validation examples = 4410\n",
      "Number of testing examples = 12630\n",
      "Image data shape = (32, 32)\n",
      "Number of classes = 43\n"
     ]
    }
   ],
   "source": [
    "### Replace each question mark with the appropriate value. \n",
    "### Use python, pandas or numpy methods rather than hard coding the results\n",
    "import numpy as np\n",
    "# TODO: Number of training examples\n",
    "n_train = X_train.shape[0]\n",
    "\n",
    "# TODO: Number of validation examples\n",
    "n_validation = X_valid.shape[0]\n",
    "\n",
    "# TODO: Number of testing examples.\n",
    "n_test = X_test.shape[0]\n",
    "\n",
    "# TODO: What's the shape of an traffic sign image?\n",
    "image_shape = (X_train.shape[1],X_train.shape[2])\n",
    "\n",
    "# TODO: How many unique classes/labels there are in the dataset.\n",
    "n_classes = len(np.unique(y_train))\n",
    "\n",
    "print(\"Number of training examples =\", n_train)\n",
    "print(\"Number of validation examples =\", n_validation)\n",
    "print(\"Number of testing examples =\", n_test)\n",
    "print(\"Image data shape =\", image_shape)\n",
    "print(\"Number of classes =\", n_classes)"
   ]
  },
  {
   "cell_type": "markdown",
   "metadata": {},
   "source": [
    "### Include an exploratory visualization of the dataset"
   ]
  },
  {
   "cell_type": "markdown",
   "metadata": {},
   "source": [
    "Visualize the German Traffic Signs Dataset using the pickled file(s). This is open ended, suggestions include: plotting traffic sign images, plotting the count of each sign, etc. \n",
    "\n",
    "The [Matplotlib](http://matplotlib.org/) [examples](http://matplotlib.org/examples/index.html) and [gallery](http://matplotlib.org/gallery.html) pages are a great resource for doing visualizations in Python.\n",
    "\n",
    "**NOTE:** It's recommended you start with something simple first. If you wish to do more, come back to it after you've completed the rest of the sections. It can be interesting to look at the distribution of classes in the training, validation and test set. Is the distribution the same? Are there more examples of some classes than others?"
   ]
  },
  {
   "cell_type": "code",
   "execution_count": 7,
   "metadata": {},
   "outputs": [
    {
     "data": {
      "image/png": "[encoded data removed]",
      "text/plain": [
       "<matplotlib.figure.Figure at 0x7f94701a7e48>"
      ]
     },
     "metadata": {},
     "output_type": "display_data"
    },
    {
     "name": "stdout",
     "output_type": "stream",
     "text": [
      "41\n"
     ]
    }
   ],
   "source": [
    "### Data exploration visualization code goes here.\n",
    "### Feel free to use as many code cells as needed.\n",
    "import matplotlib.pyplot as plt\n",
    "# Visualizations will be shown in the notebook.\n",
    "%matplotlib inline\n",
    "fig, ax = plt.subplots()\n",
    "ax.imshow(X_train[100,:,:,:])\n",
    "ax.axis('off')  # clear x- and y-axes\n",
    "plt.show()\n",
    "\n",
    "print(y_train[100])\n",
    "\n"
   ]
  },
  {
   "cell_type": "code",
   "execution_count": 8,
   "metadata": {},
   "outputs": [
    {
     "data": {
      "image/png": "[encoded data removed]",
      "text/plain": [
       "<matplotlib.figure.Figure at 0x7f9461e01a58>"
      ]
     },
     "metadata": {},
     "output_type": "display_data"
    },
    {
     "name": "stdout",
     "output_type": "stream",
     "text": [
      "41\n"
     ]
    }
   ],
   "source": [
    "# Visualizations will be shown in the notebook.\n",
    "%matplotlib inline\n",
    "fig, ax = plt.subplots()\n",
    "ax.imshow(X_train[1000,:,:,:])\n",
    "ax.axis('off')  # clear x- and y-axes\n",
    "plt.show()\n",
    "\n",
    "print(y_train[100])\n"
   ]
  },
  {
   "cell_type": "code",
   "execution_count": 9,
   "metadata": {},
   "outputs": [
    {
     "data": {
      "image/png": "[encoded data removed]",
      "text/plain": [
       "<matplotlib.figure.Figure at 0x7f94701a7be0>"
      ]
     },
     "metadata": {},
     "output_type": "display_data"
    }
   ],
   "source": [
    "%matplotlib inline\n",
    "fig, ax = plt.subplots()\n",
    "ax.imshow(X_valid[1000,:,:,:])\n",
    "ax.axis('off')  # clear x- and y-axes\n",
    "plt.show()\n"
   ]
  },
  {
   "cell_type": "code",
   "execution_count": 10,
   "metadata": {},
   "outputs": [
    {
     "data": {
      "text/plain": [
       "{0: 180,\n",
       " 1: 1980,\n",
       " 2: 2010,\n",
       " 3: 1260,\n",
       " 4: 1770,\n",
       " 5: 1650,\n",
       " 6: 360,\n",
       " 7: 1290,\n",
       " 8: 1260,\n",
       " 9: 1320,\n",
       " 10: 1800,\n",
       " 11: 1170,\n",
       " 12: 1890,\n",
       " 13: 1920,\n",
       " 14: 690,\n",
       " 15: 540,\n",
       " 16: 360,\n",
       " 17: 990,\n",
       " 18: 1080,\n",
       " 19: 180,\n",
       " 20: 300,\n",
       " 21: 270,\n",
       " 22: 330,\n",
       " 23: 450,\n",
       " 24: 240,\n",
       " 25: 1350,\n",
       " 26: 540,\n",
       " 27: 210,\n",
       " 28: 480,\n",
       " 29: 240,\n",
       " 30: 390,\n",
       " 31: 690,\n",
       " 32: 210,\n",
       " 33: 599,\n",
       " 34: 360,\n",
       " 35: 1080,\n",
       " 36: 330,\n",
       " 37: 180,\n",
       " 38: 1860,\n",
       " 39: 270,\n",
       " 40: 300,\n",
       " 41: 210,\n",
       " 42: 210}"
      ]
     },
     "execution_count": 10,
     "metadata": {},
     "output_type": "execute_result"
    }
   ],
   "source": [
    "#plot count of each sign \n",
    "count_of_signs = {}\n",
    "for i in range(n_train):\n",
    "    if y_train[i] in count_of_signs:\n",
    "        count_of_signs[y_train[i]] += 1\n",
    "    else:\n",
    "        count_of_signs[y_train[i]] = 1\n",
    "count_of_signs\n",
    "#count_of_signs.keys()\n",
    "#count_of_signs.values()    \n",
    "    "
   ]
  },
  {
   "cell_type": "code",
   "execution_count": 11,
   "metadata": {},
   "outputs": [
    {
     "data": {
      "image/png": "[encoded data removed]",
      "text/plain": [
       "<matplotlib.figure.Figure at 0x7f94620f1128>"
      ]
     },
     "metadata": {},
     "output_type": "display_data"
    }
   ],
   "source": [
    "%matplotlib inline\n",
    "fig, ax = plt.subplots()\n",
    "# Example data\n",
    "signs = count_of_signs.keys()\n",
    "y_pos = np.arange(len(signs))\n",
    "counts = count_of_signs.values()\n",
    "\n",
    "\n",
    "ax.barh(y_pos, counts, align='center',\n",
    "        color='green')\n",
    "ax.set_yticks(y_pos)\n",
    "ax.set_yticklabels(signs)\n",
    "ax.invert_yaxis()  # labels read top-to-bottom\n",
    "ax.set_xlabel('Counts')\n",
    "ax.set_title('Counts of different signs')\n",
    "\n",
    "plt.show()"
   ]
  },
  {
   "cell_type": "markdown",
   "metadata": {},
   "source": [
    "----\n",
    "\n",
    "## Step 2: Design and Test a Model Architecture\n",
    "\n",
    "Design and implement a deep learning model that learns to recognize traffic signs. Train and test your model on the [German Traffic Sign Dataset](http://benchmark.ini.rub.de/?section=gtsrb&subsection=dataset).\n",
    "\n",
    "The LeNet-5 implementation shown in the [classroom](https://classroom.udacity.com/nanodegrees/nd013/parts/fbf77062-5703-404e-b60c-95b78b2f3f9e/modules/6df7ae49-c61c-4bb2-a23e-6527e69209ec/lessons/601ae704-1035-4287-8b11-e2c2716217ad/concepts/d4aca031-508f-4e0b-b493-e7b706120f81) at the end of the CNN lesson is a solid starting point. You'll have to change the number of classes and possibly the preprocessing, but aside from that it's plug and play! \n",
    "\n",
    "With the LeNet-5 solution from the lecture, you should expect a validation set accuracy of about 0.89. To meet specifications, the validation set accuracy will need to be at least 0.93. It is possible to get an even higher accuracy, but 0.93 is the minimum for a successful project submission. \n",
    "\n",
    "There are various aspects to consider when thinking about this problem:\n",
    "\n",
    "- Neural network architecture (is the network over or underfitting?)\n",
    "- Play around preprocessing techniques (normalization, rgb to grayscale, etc)\n",
    "- Number of examples per label (some have more than others).\n",
    "- Generate fake data.\n",
    "\n",
    "Here is an example of a [published baseline model on this problem](http://yann.lecun.com/exdb/publis/pdf/sermanet-ijcnn-11.pdf). It's not required to be familiar with the approach used in the paper but, it's good practice to try to read papers like these."
   ]
  },
  {
   "cell_type": "markdown",
   "metadata": {},
   "source": [
    "### Pre-process the Data Set (normalization, grayscale, etc.)"
   ]
  },
  {
   "cell_type": "markdown",
   "metadata": {},
   "source": [
    "Minimally, the image data should be normalized so that the data has mean zero and equal variance. For image data, `(pixel - 128)/ 128` is a quick way to approximately normalize the data and can be used in this project. \n",
    "\n",
    "Other pre-processing steps are optional. You can try different techniques to see if it improves performance. \n",
    "\n",
    "Use the code cell (or multiple code cells, if necessary) to implement the first step of your project."
   ]
  },
  {
   "cell_type": "code",
   "execution_count": 43,
   "metadata": {},
   "outputs": [
    {
     "name": "stdout",
     "output_type": "stream",
     "text": [
      "(34799, 32, 32, 1)\n"
     ]
    },
    {
     "data": {
      "image/png": "[encoded data removed]",
      "text/plain": [
       "<matplotlib.figure.Figure at 0x7f94114da3c8>"
      ]
     },
     "metadata": {},
     "output_type": "display_data"
    },
    {
     "data": {
      "image/png": "[encoded data removed]",
      "text/plain": [
       "<matplotlib.figure.Figure at 0x7f94114da978>"
      ]
     },
     "metadata": {},
     "output_type": "display_data"
    }
   ],
   "source": [
    "### Preprocess the data here. It is required to normalize the data. Other preprocessing steps could include \n",
    "### converting to grayscale, etc.\n",
    "### Feel free to use as many code cells as needed.\n",
    "from copy import deepcopy\n",
    "X_train_copy = deepcopy(X_train)\n",
    "\n",
    "# X_train = X_train.astype(np.float32)\n",
    "from skimage import color\n",
    "X_train_grayscale = np.zeros((n_train, 32, 32))\n",
    "for i in range(n_train):\n",
    "    X_train_grayscale[i,:,:] = color.rgb2gray(X_train_copy[i])\n",
    "X_train_grayscale = (X_train_grayscale - 0.5)/ 0.5\n",
    "X_train_grayscale = np.expand_dims(X_train_grayscale, axis=3)\n",
    "X_train_grayscale = X_train_grayscale.astype(np.float32)\n",
    "print(X_train_grayscale.shape)\n",
    "#show one example\n",
    "img = X_train_grayscale[1000]\n",
    "%matplotlib inline\n",
    "fig, ax = plt.subplots()\n",
    "ax.imshow(img.squeeze(), cmap = 'Greys')\n",
    "ax.axis('off')  # clear x- and y-axes\n",
    "plt.show()\n",
    "\n",
    "\n",
    "X_valid_copy = deepcopy(X_valid)\n",
    "X_valid_grayscale = np.zeros((n_validation, 32, 32))\n",
    "for i in range(n_validation):\n",
    "    X_valid_grayscale[i,:,:] = color.rgb2gray(X_valid_copy[i])\n",
    "X_valid_grayscale = (X_valid_grayscale - 0.5)/ 0.5\n",
    "X_valid_grayscale = np.expand_dims(X_valid_grayscale, axis=3)\n",
    "X_valid_grayscale.shape\n",
    "X_valid_grayscale = X_valid_grayscale.astype(np.float32)\n",
    "# X_valid = X_valid.astype(np.float32)\n",
    "img = X_valid_grayscale[1000]\n",
    "%matplotlib inline\n",
    "fig, ax = plt.subplots()\n",
    "ax.imshow(img.squeeze(), cmap = 'Greys')\n",
    "ax.axis('off')  # clear x- and y-axes\n",
    "plt.show()\n",
    "\n",
    "\n",
    "X_test_copy = deepcopy(X_test)\n",
    "X_test_grayscale = np.zeros((n_test, 32, 32))\n",
    "for i in range(n_test):\n",
    "    X_test_grayscale[i,:,:] = color.rgb2gray(X_test_copy[i])\n",
    "X_test_grayscale = (X_test_grayscale - 0.5)/ 0.5\n",
    "X_test_grayscale = np.expand_dims(X_test_grayscale, axis=3)\n",
    "X_test_grayscale.shape\n",
    "X_test_grayscale = X_test_grayscale.astype(np.float32)\n",
    "# X_test = X_test.astype(np.float32)"
   ]
  },
  {
   "cell_type": "markdown",
   "metadata": {},
   "source": [
    "### Model Architecture"
   ]
  },
  {
   "cell_type": "code",
   "execution_count": 31,
   "metadata": {
    "collapsed": true
   },
   "outputs": [],
   "source": [
    "### Define your architecture here.\n",
    "### Feel free to use as many code cells as needed.\n",
    "import tensorflow as tf\n",
    "\n",
    "EPOCHS = 200\n",
    "BATCH_SIZE = 1280\n",
    "\n",
    "from tensorflow.contrib.layers import flatten\n",
    "\n",
    "def LeNet(x, n_classes):    \n",
    "\n",
    "    mu = 0\n",
    "    sigma = 0.1\n",
    "    \n",
    "    # SOLUTION: Layer 1: Convolutional. \n",
    "    conv1_W = tf.Variable(tf.truncated_normal(shape=(3, 3, 1, 64), mean = mu, stddev = sigma))\n",
    "    conv1_b = tf.Variable(tf.zeros(64))\n",
    "    conv1   = tf.nn.conv2d(x, conv1_W, strides=[1, 1, 1, 1], padding='VALID') + conv1_b\n",
    "\n",
    "    # SOLUTION: Activation.\n",
    "    conv1 = tf.nn.relu(conv1)\n",
    "    conv1 = tf.nn.dropout(conv1, keep_prob=0.5)\n",
    "    \n",
    "    # SOLUTION: Pooling. Input = 28x28x64. Output = 14x14x64.\n",
    "    conv1 = tf.nn.max_pool(conv1, ksize=[1, 2, 2, 1], strides=[1, 2, 2, 1], padding='VALID')\n",
    "\n",
    "    # SOLUTION: Layer 2: Convolutional. Output = 10x10x64.\n",
    "    conv2_W = tf.Variable(tf.truncated_normal(shape=(5, 5, 64, 64), mean = mu, stddev = sigma))\n",
    "    conv2_b = tf.Variable(tf.zeros(64))\n",
    "    conv2   = tf.nn.conv2d(conv1, conv2_W, strides=[1, 1, 1, 1], padding='VALID') + conv2_b\n",
    "    \n",
    "    # SOLUTION: Activation.\n",
    "    conv2 = tf.nn.relu(conv2)\n",
    "    conv2 = tf.nn.dropout(conv2, keep_prob=0.5)\n",
    "\n",
    "    # SOLUTION: Pooling. Input = 10x10x64. Output = 5x5x64.\n",
    "    conv2 = tf.nn.max_pool(conv2, ksize=[1, 2, 2, 1], strides=[1, 2, 2, 1], padding='VALID')\n",
    "\n",
    "    # SOLUTION: Flatten. Input = 5x5x64. Output = 1600.\n",
    "    fc0   = flatten(conv2)\n",
    "    \n",
    "    # SOLUTION: Layer 3: Fully Connected. Input = 1600. Output = 120.\n",
    "    fc1_W = tf.Variable(tf.truncated_normal(shape=(1600, 120), mean = mu, stddev = sigma))\n",
    "    fc1_b = tf.Variable(tf.zeros(120))\n",
    "    fc1   = tf.matmul(fc0, fc1_W) + fc1_b\n",
    "    \n",
    "    # SOLUTION: Activation.\n",
    "    fc1    = tf.nn.relu(fc1)\n",
    "\n",
    "    # SOLUTION: Layer 4: Fully Connected. Input = 120. Output = 84.\n",
    "    fc2_W  = tf.Variable(tf.truncated_normal(shape=(120, 84), mean = mu, stddev = sigma))\n",
    "    fc2_b  = tf.Variable(tf.zeros(84))\n",
    "    fc2    = tf.matmul(fc1, fc2_W) + fc2_b\n",
    "    \n",
    "    # SOLUTION: Activation.\n",
    "    fc2    = tf.nn.relu(fc2)\n",
    "\n",
    "    # SOLUTION: Layer 5: Fully Connected. Input = 84. Output = 10.\n",
    "    fc3_W  = tf.Variable(tf.truncated_normal(shape=(84, n_classes), mean = mu, stddev = sigma))\n",
    "    fc3_b  = tf.Variable(tf.zeros(n_classes))\n",
    "    logits = tf.matmul(fc2, fc3_W) + fc3_b\n",
    "    \n",
    "    return logits\n"
   ]
  },
  {
   "cell_type": "code",
   "execution_count": 32,
   "metadata": {
    "collapsed": true
   },
   "outputs": [],
   "source": [
    "x = tf.placeholder(tf.float32, (None, 32, 32, 1))\n",
    "y = tf.placeholder(tf.int32, (None))\n",
    "one_hot_y = tf.one_hot(y, n_classes)\n",
    "rate = 0.001\n",
    "\n",
    "logits = LeNet(x, n_classes)\n",
    "cross_entropy = tf.nn.softmax_cross_entropy_with_logits(labels=one_hot_y, logits=logits)\n",
    "loss_operation = tf.reduce_mean(cross_entropy)\n",
    "optimizer = tf.train.AdamOptimizer(learning_rate = rate)\n",
    "training_operation = optimizer.minimize(loss_operation)\n",
    "\n",
    "correct_prediction = tf.equal(tf.argmax(logits, 1), tf.argmax(one_hot_y, 1))\n",
    "accuracy_operation = tf.reduce_mean(tf.cast(correct_prediction, tf.float32))\n",
    "saver = tf.train.Saver()\n",
    "\n",
    "def evaluate(X_data, y_data):\n",
    "    num_examples = X_data.shape[0]\n",
    "    total_accuracy = 0\n",
    "    sess = tf.get_default_session()\n",
    "    for offset in range(0, num_examples, BATCH_SIZE):\n",
    "        batch_x, batch_y = X_data[offset:offset+BATCH_SIZE], y_data[offset:offset+BATCH_SIZE]\n",
    "        accuracy = sess.run(accuracy_operation, feed_dict={x: batch_x, y: batch_y})\n",
    "        total_accuracy += (accuracy * batch_x.shape[0])\n",
    "    return total_accuracy / num_examples"
   ]
  },
  {
   "cell_type": "markdown",
   "metadata": {},
   "source": [
    "### Train, Validate and Test the Model"
   ]
  },
  {
   "cell_type": "markdown",
   "metadata": {},
   "source": [
    "A validation set can be used to assess how well the model is performing. A low accuracy on the training and validation\n",
    "sets imply underfitting. A high accuracy on the training set but low accuracy on the validation set implies overfitting."
   ]
  },
  {
   "cell_type": "code",
   "execution_count": 33,
   "metadata": {},
   "outputs": [
    {
     "name": "stdout",
     "output_type": "stream",
     "text": [
      "Training...\n",
      "\n",
      "EPOCH 1 ...\n",
      "Validation Accuracy = 0.036\n",
      "\n",
      "EPOCH 2 ...\n",
      "Validation Accuracy = 0.051\n",
      "\n",
      "EPOCH 3 ...\n",
      "Validation Accuracy = 0.062\n",
      "\n",
      "EPOCH 4 ...\n",
      "Validation Accuracy = 0.079\n",
      "\n",
      "EPOCH 5 ...\n",
      "Validation Accuracy = 0.100\n",
      "\n",
      "EPOCH 6 ...\n",
      "Validation Accuracy = 0.129\n",
      "\n",
      "EPOCH 7 ...\n",
      "Validation Accuracy = 0.153\n",
      "\n",
      "EPOCH 8 ...\n",
      "Validation Accuracy = 0.170\n",
      "\n",
      "EPOCH 9 ...\n",
      "Validation Accuracy = 0.190\n",
      "\n",
      "EPOCH 10 ...\n",
      "Validation Accuracy = 0.253\n",
      "\n",
      "EPOCH 11 ...\n",
      "Validation Accuracy = 0.288\n",
      "\n",
      "EPOCH 12 ...\n",
      "Validation Accuracy = 0.364\n",
      "\n",
      "EPOCH 13 ...\n",
      "Validation Accuracy = 0.340\n",
      "\n",
      "EPOCH 14 ...\n",
      "Validation Accuracy = 0.324\n",
      "\n",
      "EPOCH 15 ...\n",
      "Validation Accuracy = 0.442\n",
      "\n",
      "EPOCH 16 ...\n",
      "Validation Accuracy = 0.470\n",
      "\n",
      "EPOCH 17 ...\n",
      "Validation Accuracy = 0.507\n",
      "\n",
      "EPOCH 18 ...\n",
      "Validation Accuracy = 0.565\n",
      "\n",
      "EPOCH 19 ...\n",
      "Validation Accuracy = 0.601\n",
      "\n",
      "EPOCH 20 ...\n",
      "Validation Accuracy = 0.620\n",
      "\n",
      "EPOCH 21 ...\n",
      "Validation Accuracy = 0.585\n",
      "\n",
      "EPOCH 22 ...\n",
      "Validation Accuracy = 0.595\n",
      "\n",
      "EPOCH 23 ...\n",
      "Validation Accuracy = 0.648\n",
      "\n",
      "EPOCH 24 ...\n",
      "Validation Accuracy = 0.664\n",
      "\n",
      "EPOCH 25 ...\n",
      "Validation Accuracy = 0.666\n",
      "\n",
      "EPOCH 26 ...\n",
      "Validation Accuracy = 0.679\n",
      "\n",
      "EPOCH 27 ...\n",
      "Validation Accuracy = 0.718\n",
      "\n",
      "EPOCH 28 ...\n",
      "Validation Accuracy = 0.743\n",
      "\n",
      "EPOCH 29 ...\n",
      "Validation Accuracy = 0.755\n",
      "\n",
      "EPOCH 30 ...\n",
      "Validation Accuracy = 0.762\n",
      "\n",
      "EPOCH 31 ...\n",
      "Validation Accuracy = 0.770\n",
      "\n",
      "EPOCH 32 ...\n",
      "Validation Accuracy = 0.766\n",
      "\n",
      "EPOCH 33 ...\n",
      "Validation Accuracy = 0.780\n",
      "\n",
      "EPOCH 34 ...\n",
      "Validation Accuracy = 0.795\n",
      "\n",
      "EPOCH 35 ...\n",
      "Validation Accuracy = 0.787\n",
      "\n",
      "EPOCH 36 ...\n",
      "Validation Accuracy = 0.800\n",
      "\n",
      "EPOCH 37 ...\n",
      "Validation Accuracy = 0.792\n",
      "\n",
      "EPOCH 38 ...\n",
      "Validation Accuracy = 0.794\n",
      "\n",
      "EPOCH 39 ...\n",
      "Validation Accuracy = 0.806\n",
      "\n",
      "EPOCH 40 ...\n",
      "Validation Accuracy = 0.811\n",
      "\n",
      "EPOCH 41 ...\n",
      "Validation Accuracy = 0.825\n",
      "\n",
      "EPOCH 42 ...\n",
      "Validation Accuracy = 0.834\n",
      "\n",
      "EPOCH 43 ...\n",
      "Validation Accuracy = 0.829\n",
      "\n",
      "EPOCH 44 ...\n",
      "Validation Accuracy = 0.837\n",
      "\n",
      "EPOCH 45 ...\n",
      "Validation Accuracy = 0.844\n",
      "\n",
      "EPOCH 46 ...\n",
      "Validation Accuracy = 0.852\n",
      "\n",
      "EPOCH 47 ...\n",
      "Validation Accuracy = 0.856\n",
      "\n",
      "EPOCH 48 ...\n",
      "Validation Accuracy = 0.861\n",
      "\n",
      "EPOCH 49 ...\n",
      "Validation Accuracy = 0.846\n",
      "\n",
      "EPOCH 50 ...\n",
      "Validation Accuracy = 0.843\n",
      "\n",
      "EPOCH 51 ...\n",
      "Validation Accuracy = 0.858\n",
      "\n",
      "EPOCH 52 ...\n",
      "Validation Accuracy = 0.867\n",
      "\n",
      "EPOCH 53 ...\n",
      "Validation Accuracy = 0.870\n",
      "\n",
      "EPOCH 54 ...\n",
      "Validation Accuracy = 0.879\n",
      "\n",
      "EPOCH 55 ...\n",
      "Validation Accuracy = 0.880\n",
      "\n",
      "EPOCH 56 ...\n",
      "Validation Accuracy = 0.877\n",
      "\n",
      "EPOCH 57 ...\n",
      "Validation Accuracy = 0.880\n",
      "\n",
      "EPOCH 58 ...\n",
      "Validation Accuracy = 0.886\n",
      "\n",
      "EPOCH 59 ...\n",
      "Validation Accuracy = 0.877\n",
      "\n",
      "EPOCH 60 ...\n",
      "Validation Accuracy = 0.885\n",
      "\n",
      "EPOCH 61 ...\n",
      "Validation Accuracy = 0.892\n",
      "\n",
      "EPOCH 62 ...\n",
      "Validation Accuracy = 0.890\n",
      "\n",
      "EPOCH 63 ...\n",
      "Validation Accuracy = 0.894\n",
      "\n",
      "EPOCH 64 ...\n",
      "Validation Accuracy = 0.894\n",
      "\n",
      "EPOCH 65 ...\n",
      "Validation Accuracy = 0.904\n",
      "\n",
      "EPOCH 66 ...\n",
      "Validation Accuracy = 0.900\n",
      "\n",
      "EPOCH 67 ...\n",
      "Validation Accuracy = 0.894\n",
      "\n",
      "EPOCH 68 ...\n",
      "Validation Accuracy = 0.895\n",
      "\n",
      "EPOCH 69 ...\n",
      "Validation Accuracy = 0.900\n",
      "\n",
      "EPOCH 70 ...\n",
      "Validation Accuracy = 0.902\n",
      "\n",
      "EPOCH 71 ...\n",
      "Validation Accuracy = 0.869\n",
      "\n",
      "EPOCH 72 ...\n",
      "Validation Accuracy = 0.891\n",
      "\n",
      "EPOCH 73 ...\n",
      "Validation Accuracy = 0.904\n",
      "\n",
      "EPOCH 74 ...\n",
      "Validation Accuracy = 0.910\n",
      "\n",
      "EPOCH 75 ...\n",
      "Validation Accuracy = 0.905\n",
      "\n",
      "EPOCH 76 ...\n",
      "Validation Accuracy = 0.906\n",
      "\n",
      "EPOCH 77 ...\n",
      "Validation Accuracy = 0.909\n",
      "\n",
      "EPOCH 78 ...\n",
      "Validation Accuracy = 0.910\n",
      "\n",
      "EPOCH 79 ...\n",
      "Validation Accuracy = 0.912\n",
      "\n",
      "EPOCH 80 ...\n",
      "Validation Accuracy = 0.912\n",
      "\n",
      "EPOCH 81 ...\n",
      "Validation Accuracy = 0.912\n",
      "\n",
      "EPOCH 82 ...\n",
      "Validation Accuracy = 0.913\n",
      "\n",
      "EPOCH 83 ...\n",
      "Validation Accuracy = 0.909\n",
      "\n",
      "EPOCH 84 ...\n",
      "Validation Accuracy = 0.912\n",
      "\n",
      "EPOCH 85 ...\n",
      "Validation Accuracy = 0.920\n",
      "\n",
      "EPOCH 86 ...\n",
      "Validation Accuracy = 0.911\n",
      "\n",
      "EPOCH 87 ...\n",
      "Validation Accuracy = 0.909\n",
      "\n",
      "EPOCH 88 ...\n",
      "Validation Accuracy = 0.908\n",
      "\n",
      "EPOCH 89 ...\n",
      "Validation Accuracy = 0.915\n",
      "\n",
      "EPOCH 90 ...\n",
      "Validation Accuracy = 0.915\n",
      "\n",
      "EPOCH 91 ...\n",
      "Validation Accuracy = 0.916\n",
      "\n",
      "EPOCH 92 ...\n",
      "Validation Accuracy = 0.917\n",
      "\n",
      "EPOCH 93 ...\n",
      "Validation Accuracy = 0.920\n",
      "\n",
      "EPOCH 94 ...\n",
      "Validation Accuracy = 0.909\n",
      "\n",
      "EPOCH 95 ...\n",
      "Validation Accuracy = 0.869\n",
      "\n",
      "EPOCH 96 ...\n",
      "Validation Accuracy = 0.862\n",
      "\n",
      "EPOCH 97 ...\n",
      "Validation Accuracy = 0.882\n",
      "\n",
      "EPOCH 98 ...\n",
      "Validation Accuracy = 0.911\n",
      "\n",
      "EPOCH 99 ...\n",
      "Validation Accuracy = 0.920\n",
      "\n",
      "EPOCH 100 ...\n",
      "Validation Accuracy = 0.922\n",
      "\n",
      "EPOCH 101 ...\n",
      "Validation Accuracy = 0.919\n",
      "\n",
      "EPOCH 102 ...\n",
      "Validation Accuracy = 0.924\n",
      "\n",
      "EPOCH 103 ...\n",
      "Validation Accuracy = 0.922\n",
      "\n",
      "EPOCH 104 ...\n",
      "Validation Accuracy = 0.933\n",
      "\n",
      "EPOCH 105 ...\n",
      "Validation Accuracy = 0.929\n",
      "\n",
      "EPOCH 106 ...\n",
      "Validation Accuracy = 0.931\n",
      "\n",
      "EPOCH 107 ...\n",
      "Validation Accuracy = 0.927\n",
      "\n",
      "EPOCH 108 ...\n",
      "Validation Accuracy = 0.928\n",
      "\n",
      "EPOCH 109 ...\n",
      "Validation Accuracy = 0.926\n",
      "\n",
      "EPOCH 110 ...\n",
      "Validation Accuracy = 0.927\n",
      "\n",
      "EPOCH 111 ...\n",
      "Validation Accuracy = 0.927\n",
      "\n",
      "EPOCH 112 ...\n",
      "Validation Accuracy = 0.922\n",
      "\n",
      "EPOCH 113 ...\n",
      "Validation Accuracy = 0.929\n",
      "\n",
      "EPOCH 114 ...\n",
      "Validation Accuracy = 0.923\n",
      "\n",
      "EPOCH 115 ...\n",
      "Validation Accuracy = 0.929\n",
      "\n",
      "EPOCH 116 ...\n",
      "Validation Accuracy = 0.923\n",
      "\n",
      "EPOCH 117 ...\n",
      "Validation Accuracy = 0.927\n",
      "\n",
      "EPOCH 118 ...\n",
      "Validation Accuracy = 0.920\n",
      "\n",
      "EPOCH 119 ...\n",
      "Validation Accuracy = 0.928\n",
      "\n",
      "EPOCH 120 ...\n",
      "Validation Accuracy = 0.928\n",
      "\n",
      "EPOCH 121 ...\n",
      "Validation Accuracy = 0.934\n",
      "\n",
      "EPOCH 122 ...\n",
      "Validation Accuracy = 0.930\n",
      "\n",
      "EPOCH 123 ...\n",
      "Validation Accuracy = 0.934\n",
      "\n",
      "EPOCH 124 ...\n",
      "Validation Accuracy = 0.925\n",
      "\n",
      "EPOCH 125 ...\n",
      "Validation Accuracy = 0.927\n",
      "\n",
      "EPOCH 126 ...\n",
      "Validation Accuracy = 0.928\n",
      "\n",
      "EPOCH 127 ...\n",
      "Validation Accuracy = 0.932\n",
      "\n",
      "EPOCH 128 ...\n",
      "Validation Accuracy = 0.925\n",
      "\n",
      "EPOCH 129 ...\n",
      "Validation Accuracy = 0.927\n",
      "\n",
      "EPOCH 130 ...\n",
      "Validation Accuracy = 0.926\n",
      "\n",
      "EPOCH 131 ...\n",
      "Validation Accuracy = 0.921\n",
      "\n",
      "EPOCH 132 ...\n",
      "Validation Accuracy = 0.899\n",
      "\n",
      "EPOCH 133 ...\n",
      "Validation Accuracy = 0.672\n",
      "\n",
      "EPOCH 134 ...\n",
      "Validation Accuracy = 0.790\n",
      "\n",
      "EPOCH 135 ...\n",
      "Validation Accuracy = 0.860\n",
      "\n",
      "EPOCH 136 ...\n",
      "Validation Accuracy = 0.885\n",
      "\n",
      "EPOCH 137 ...\n",
      "Validation Accuracy = 0.907\n",
      "\n",
      "EPOCH 138 ...\n",
      "Validation Accuracy = 0.916\n",
      "\n",
      "EPOCH 139 ...\n",
      "Validation Accuracy = 0.919\n",
      "\n",
      "EPOCH 140 ...\n",
      "Validation Accuracy = 0.922\n",
      "\n",
      "EPOCH 141 ...\n",
      "Validation Accuracy = 0.923\n",
      "\n",
      "EPOCH 142 ...\n",
      "Validation Accuracy = 0.926\n",
      "\n",
      "EPOCH 143 ...\n",
      "Validation Accuracy = 0.931\n",
      "\n",
      "EPOCH 144 ...\n",
      "Validation Accuracy = 0.927\n",
      "\n",
      "EPOCH 145 ...\n",
      "Validation Accuracy = 0.929\n",
      "\n",
      "EPOCH 146 ...\n",
      "Validation Accuracy = 0.932\n",
      "\n",
      "EPOCH 147 ...\n",
      "Validation Accuracy = 0.931\n",
      "\n",
      "EPOCH 148 ...\n",
      "Validation Accuracy = 0.933\n",
      "\n",
      "EPOCH 149 ...\n",
      "Validation Accuracy = 0.934\n",
      "\n",
      "EPOCH 150 ...\n",
      "Validation Accuracy = 0.935\n",
      "\n",
      "EPOCH 151 ...\n",
      "Validation Accuracy = 0.934\n",
      "\n",
      "EPOCH 152 ...\n",
      "Validation Accuracy = 0.927\n",
      "\n",
      "EPOCH 153 ...\n",
      "Validation Accuracy = 0.937\n",
      "\n",
      "EPOCH 154 ...\n",
      "Validation Accuracy = 0.934\n",
      "\n",
      "EPOCH 155 ...\n",
      "Validation Accuracy = 0.934\n",
      "\n",
      "EPOCH 156 ...\n",
      "Validation Accuracy = 0.932\n",
      "\n",
      "EPOCH 157 ...\n",
      "Validation Accuracy = 0.937\n",
      "\n",
      "EPOCH 158 ...\n",
      "Validation Accuracy = 0.934\n",
      "\n",
      "EPOCH 159 ...\n",
      "Validation Accuracy = 0.938\n",
      "\n",
      "EPOCH 160 ...\n",
      "Validation Accuracy = 0.937\n",
      "\n",
      "EPOCH 161 ...\n",
      "Validation Accuracy = 0.939\n",
      "\n",
      "EPOCH 162 ...\n",
      "Validation Accuracy = 0.935\n",
      "\n",
      "EPOCH 163 ...\n",
      "Validation Accuracy = 0.936\n",
      "\n",
      "EPOCH 164 ...\n",
      "Validation Accuracy = 0.936\n",
      "\n",
      "EPOCH 165 ...\n",
      "Validation Accuracy = 0.937\n",
      "\n",
      "EPOCH 166 ...\n",
      "Validation Accuracy = 0.936\n",
      "\n",
      "EPOCH 167 ...\n",
      "Validation Accuracy = 0.937\n",
      "\n",
      "EPOCH 168 ...\n",
      "Validation Accuracy = 0.936\n",
      "\n",
      "EPOCH 169 ...\n",
      "Validation Accuracy = 0.934\n",
      "\n",
      "EPOCH 170 ...\n",
      "Validation Accuracy = 0.935\n",
      "\n",
      "EPOCH 171 ...\n",
      "Validation Accuracy = 0.933\n",
      "\n",
      "EPOCH 172 ...\n",
      "Validation Accuracy = 0.937\n",
      "\n",
      "EPOCH 173 ...\n",
      "Validation Accuracy = 0.937\n",
      "\n",
      "EPOCH 174 ...\n",
      "Validation Accuracy = 0.936\n",
      "\n",
      "EPOCH 175 ...\n",
      "Validation Accuracy = 0.935\n",
      "\n",
      "EPOCH 176 ...\n",
      "Validation Accuracy = 0.934\n",
      "\n",
      "EPOCH 177 ...\n",
      "Validation Accuracy = 0.935\n",
      "\n",
      "EPOCH 178 ...\n",
      "Validation Accuracy = 0.940\n",
      "\n",
      "EPOCH 179 ...\n",
      "Validation Accuracy = 0.931\n",
      "\n",
      "EPOCH 180 ...\n",
      "Validation Accuracy = 0.941\n",
      "\n",
      "EPOCH 181 ...\n",
      "Validation Accuracy = 0.938\n",
      "\n",
      "EPOCH 182 ...\n",
      "Validation Accuracy = 0.940\n",
      "\n",
      "EPOCH 183 ...\n",
      "Validation Accuracy = 0.935\n",
      "\n",
      "EPOCH 184 ...\n",
      "Validation Accuracy = 0.938\n",
      "\n",
      "EPOCH 185 ...\n",
      "Validation Accuracy = 0.942\n",
      "\n",
      "EPOCH 186 ...\n",
      "Validation Accuracy = 0.940\n",
      "\n",
      "EPOCH 187 ...\n",
      "Validation Accuracy = 0.941\n",
      "\n",
      "EPOCH 188 ...\n",
      "Validation Accuracy = 0.938\n",
      "\n",
      "EPOCH 189 ...\n",
      "Validation Accuracy = 0.934\n",
      "\n",
      "EPOCH 190 ...\n",
      "Validation Accuracy = 0.941\n",
      "\n",
      "EPOCH 191 ...\n",
      "Validation Accuracy = 0.938\n",
      "\n",
      "EPOCH 192 ...\n",
      "Validation Accuracy = 0.939\n",
      "\n",
      "EPOCH 193 ...\n",
      "Validation Accuracy = 0.932\n",
      "\n"
     ]
    },
    {
     "name": "stdout",
     "output_type": "stream",
     "text": [
      "EPOCH 194 ...\n",
      "Validation Accuracy = 0.936\n",
      "\n",
      "EPOCH 195 ...\n",
      "Validation Accuracy = 0.938\n",
      "\n",
      "EPOCH 196 ...\n",
      "Validation Accuracy = 0.935\n",
      "\n",
      "EPOCH 197 ...\n",
      "Validation Accuracy = 0.942\n",
      "\n",
      "EPOCH 198 ...\n",
      "Validation Accuracy = 0.939\n",
      "\n",
      "EPOCH 199 ...\n",
      "Validation Accuracy = 0.934\n",
      "\n",
      "EPOCH 200 ...\n",
      "Validation Accuracy = 0.930\n",
      "\n",
      "Test Accuracy = 0.912\n",
      "Model saved\n"
     ]
    }
   ],
   "source": [
    "### Train your model here.\n",
    "### Calculate and report the accuracy on the training and validation set.\n",
    "### Once a final model architecture is selected, \n",
    "### the accuracy on the test set should be calculated and reported as well.\n",
    "### Feel free to use as many code cells as needed.\n",
    "with tf.Session() as sess:\n",
    "    sess.run(tf.global_variables_initializer())\n",
    "    print(\"Training...\")\n",
    "    print()\n",
    "    for i in range(EPOCHS):\n",
    "        for offset in range(0, n_train, BATCH_SIZE):\n",
    "            end = offset + BATCH_SIZE\n",
    "            batch_x, batch_y = X_train_grayscale[offset:end], y_train[offset:end]\n",
    "            sess.run(training_operation, feed_dict={x: batch_x, y: batch_y})\n",
    "            \n",
    "        validation_accuracy = evaluate(X_valid_grayscale, y_valid)\n",
    "        \n",
    "        print(\"EPOCH {} ...\".format(i+1))\n",
    "        print(\"Validation Accuracy = {:.3f}\".format(validation_accuracy))\n",
    "        print()\n",
    "    test_accuracy = evaluate(X_test_grayscale, y_test)\n",
    "    print(\"Test Accuracy = {:.3f}\".format(test_accuracy))\n",
    "    saver.save(sess, './lenet')\n",
    "    print(\"Model saved\")\n",
    "\n",
    "\n"
   ]
  },
  {
   "cell_type": "code",
   "execution_count": 35,
   "metadata": {},
   "outputs": [
    {
     "name": "stdout",
     "output_type": "stream",
     "text": [
      "[16  1 38 ...,  6  7 10]\n"
     ]
    }
   ],
   "source": [
    "print(y_test)"
   ]
  },
  {
   "cell_type": "markdown",
   "metadata": {},
   "source": [
    "---\n",
    "\n",
    "## Step 3: Test a Model on New Images\n",
    "\n",
    "To give yourself more insight into how your model is working, download at least five pictures of German traffic signs from the web and use your model to predict the traffic sign type.\n",
    "\n",
    "You may find `signnames.csv` useful as it contains mappings from the class id (integer) to the actual sign name."
   ]
  },
  {
   "cell_type": "markdown",
   "metadata": {},
   "source": [
    "### Load and Output the Images"
   ]
  },
  {
   "cell_type": "code",
   "execution_count": 36,
   "metadata": {},
   "outputs": [
    {
     "name": "stdout",
     "output_type": "stream",
     "text": [
      "(56, 52, 3)\n"
     ]
    },
    {
     "data": {
      "image/png": "[encoded data removed]",
      "text/plain": [
       "<matplotlib.figure.Figure at 0x7f94152de390>"
      ]
     },
     "metadata": {},
     "output_type": "display_data"
    }
   ],
   "source": [
    "### Load the images and plot them here.\n",
    "### Feel free to use as many code cells as needed.\n",
    "import cv2\n",
    "def preprocess_new_image(img):\n",
    "    #convert to greyscale\n",
    "    img_grayscale = color.rgb2gray(img)\n",
    "    #resize image\n",
    "    resized_img = cv2.resize(img_grayscale, (32, 32)) \n",
    "    #normalize image\n",
    "    img_normalized = (resized_img - 0.5)/ 0.5\n",
    "    img_normalized = np.expand_dims(img_normalized, axis=3)\n",
    "    return img_normalized\n",
    "\n",
    "test1 = cv2.imread('German_test/00005.ppm')\n",
    "print(test1.shape)\n",
    "test1_normalized = preprocess_new_image(test1)\n",
    "\n",
    "%matplotlib inline\n",
    "fig, (ax1,ax2) = plt.subplots(1,2)\n",
    "ax1.imshow(test1)\n",
    "ax1.axis('off')  # clear x- and y-axes\n",
    "ax2.imshow(test1_normalized.squeeze(), cmap = 'Greys')\n",
    "ax2.axis('off')  # clear x- and y-axes\n",
    "plt.show()\n"
   ]
  },
  {
   "cell_type": "code",
   "execution_count": 46,
   "metadata": {},
   "outputs": [
    {
     "name": "stdout",
     "output_type": "stream",
     "text": [
      "(56, 52, 3)\n"
     ]
    },
    {
     "data": {
      "image/png": "[encoded data removed]",
      "text/plain": [
       "<matplotlib.figure.Figure at 0x7f9411306eb8>"
      ]
     },
     "metadata": {},
     "output_type": "display_data"
    }
   ],
   "source": [
    "test2 = cv2.imread('German_test/00022.ppm')\n",
    "print(test1.shape)\n",
    "test2_normalized = preprocess_new_image(test2)\n",
    "\n",
    "%matplotlib inline\n",
    "fig, (ax1,ax2) = plt.subplots(1,2)\n",
    "ax1.imshow(test2)\n",
    "ax1.axis('off')  # clear x- and y-axes\n",
    "ax2.imshow(test2_normalized.squeeze(), cmap = 'Greys')\n",
    "ax2.axis('off')  # clear x- and y-axes\n",
    "plt.show()\n"
   ]
  },
  {
   "cell_type": "code",
   "execution_count": 47,
   "metadata": {},
   "outputs": [
    {
     "name": "stdout",
     "output_type": "stream",
     "text": [
      "(56, 52, 3)\n"
     ]
    },
    {
     "data": {
      "image/png": "[encoded data removed]",
      "text/plain": [
       "<matplotlib.figure.Figure at 0x7f9411283128>"
      ]
     },
     "metadata": {},
     "output_type": "display_data"
    }
   ],
   "source": [
    "### Load the images and plot them here.\n",
    "### Feel free to use as many code cells as needed.\n",
    "test3 = cv2.imread('German_test/00044.ppm')\n",
    "print(test1.shape)\n",
    "test3_normalized = preprocess_new_image(test3)\n",
    "\n",
    "%matplotlib inline\n",
    "fig, (ax1,ax2) = plt.subplots(1,2)\n",
    "ax1.imshow(test3)\n",
    "ax1.axis('off')  # clear x- and y-axes\n",
    "ax2.imshow(test3_normalized.squeeze(), cmap = 'Greys')\n",
    "ax2.axis('off')  # clear x- and y-axes\n",
    "plt.show()\n"
   ]
  },
  {
   "cell_type": "code",
   "execution_count": 48,
   "metadata": {},
   "outputs": [
    {
     "name": "stdout",
     "output_type": "stream",
     "text": [
      "(56, 52, 3)\n"
     ]
    },
    {
     "data": {
      "image/png": "[encoded data removed]",
      "text/plain": [
       "<matplotlib.figure.Figure at 0x7f941133f518>"
      ]
     },
     "metadata": {},
     "output_type": "display_data"
    }
   ],
   "source": [
    "### Load the images and plot them here.\n",
    "### Feel free to use as many code cells as needed.\n",
    "test4 = cv2.imread('German_test/00068.ppm')\n",
    "print(test1.shape)\n",
    "test4_normalized = preprocess_new_image(test4)\n",
    "\n",
    "%matplotlib inline\n",
    "fig, (ax1,ax2) = plt.subplots(1,2)\n",
    "ax1.imshow(test4)\n",
    "ax1.axis('off')  # clear x- and y-axes\n",
    "ax2.imshow(test4_normalized.squeeze(), cmap = 'Greys')\n",
    "ax2.axis('off')  # clear x- and y-axes\n",
    "plt.show()\n",
    "\n",
    "\n"
   ]
  },
  {
   "cell_type": "code",
   "execution_count": 49,
   "metadata": {},
   "outputs": [
    {
     "name": "stdout",
     "output_type": "stream",
     "text": [
      "(56, 52, 3)\n"
     ]
    },
    {
     "data": {
      "image/png": "[encoded data removed]",
      "text/plain": [
       "<matplotlib.figure.Figure at 0x7f94153d22e8>"
      ]
     },
     "metadata": {},
     "output_type": "display_data"
    }
   ],
   "source": [
    "test5 = cv2.imread('German_test/00136.ppm')\n",
    "print(test1.shape)\n",
    "test5_normalized = preprocess_new_image(test5)\n",
    "\n",
    "%matplotlib inline\n",
    "fig, (ax1,ax2) = plt.subplots(1,2)\n",
    "ax1.imshow(test5)\n",
    "ax1.axis('off')  # clear x- and y-axes\n",
    "ax2.imshow(test5_normalized.squeeze(), cmap = 'Greys')\n",
    "ax2.axis('off')  # clear x- and y-axes\n",
    "plt.show()\n",
    "\n"
   ]
  },
  {
   "cell_type": "markdown",
   "metadata": {},
   "source": [
    "### Predict the Sign Type for Each Image"
   ]
  },
  {
   "cell_type": "code",
   "execution_count": 54,
   "metadata": {},
   "outputs": [
    {
     "name": "stdout",
     "output_type": "stream",
     "text": [
      "[38  9 24  5 18]\n",
      "Keep right\n",
      "No passing\n",
      "Road narrows on the right\n",
      "Speed limit (80km/h)\n",
      "General caution\n"
     ]
    }
   ],
   "source": [
    "### Run the predictions here and use the model to output the prediction for each image.\n",
    "### Make sure to pre-process the images with the same pre-processing pipeline used earlier.\n",
    "### Feel free to use as many code cells as needed.\n",
    "prediction_operation = tf.argmax(logits, 1)\n",
    "\n",
    "def predict(X_data):\n",
    "    num_examples = X_data.shape[0]\n",
    "    sess = tf.get_default_session()\n",
    "    prediction_results = sess.run(prediction_operation, feed_dict={x: X_data})\n",
    "    return prediction_results\n",
    "\n",
    "X_test_german = np.zeros((5,32,32,1))\n",
    "X_test_german[0,:,:,:] = test1_normalized\n",
    "X_test_german[1,:,:,:] = test2_normalized\n",
    "X_test_german[2,:,:,:] = test3_normalized\n",
    "X_test_german[3,:,:,:] = test4_normalized\n",
    "X_test_german[4,:,:,:] = test5_normalized\n",
    "    \n",
    "with tf.Session() as sess:\n",
    "    saver.restore(sess, tf.train.latest_checkpoint('.'))\n",
    "    prediction_results = predict(X_test_german)\n",
    "    print(prediction_results)\n",
    "    \n",
    "import csv \n",
    "sign_dict = {}\n",
    "with open('signnames.csv') as f:\n",
    "    spamreader = csv.reader(f)\n",
    "    next(spamreader)\n",
    "    for row in spamreader:\n",
    "        sign_dict[row[0]] = row[1]\n",
    "\n",
    "for result in prediction_results:\n",
    "    print(sign_dict[str(result)])\n",
    "    \n",
    "    \n"
   ]
  },
  {
   "cell_type": "markdown",
   "metadata": {},
   "source": [
    "### Analyze Performance"
   ]
  },
  {
   "cell_type": "code",
   "execution_count": 56,
   "metadata": {},
   "outputs": [
    {
     "name": "stdout",
     "output_type": "stream",
     "text": [
      "Test Accuracy = 1.000\n"
     ]
    }
   ],
   "source": [
    "### Calculate the accuracy for these 5 new images. \n",
    "### For example, if the model predicted 1 out of 5 signs correctly, it's 20% accurate on these new images.\n",
    "y_test_selected = [38,9,24,5,18]\n",
    "with tf.Session() as sess:\n",
    "    saver.restore(sess, tf.train.latest_checkpoint('.'))\n",
    "\n",
    "    test_accuracy = evaluate(X_test_german, y_test_selected)\n",
    "    print(\"Test Accuracy = {:.3f}\".format(test_accuracy))"
   ]
  },
  {
   "cell_type": "markdown",
   "metadata": {},
   "source": [
    "### Output Top 5 Softmax Probabilities For Each Image Found on the Web"
   ]
  },
  {
   "cell_type": "markdown",
   "metadata": {},
   "source": [
    "For each of the new images, print out the model's softmax probabilities to show the **certainty** of the model's predictions (limit the output to the top 5 probabilities for each image). [`tf.nn.top_k`](https://www.tensorflow.org/versions/r0.12/api_docs/python/nn.html#top_k) could prove helpful here. \n",
    "\n",
    "The example below demonstrates how tf.nn.top_k can be used to find the top k predictions for each image.\n",
    "\n",
    "`tf.nn.top_k` will return the values and indices (class ids) of the top k predictions. So if k=3, for each sign, it'll return the 3 largest probabilities (out of a possible 43) and the correspoding class ids.\n",
    "\n",
    "Take this numpy array as an example. The values in the array represent predictions. The array contains softmax probabilities for five candidate images with six possible classes. `tf.nn.top_k` is used to choose the three classes with the highest probability:\n",
    "\n",
    "```\n",
    "# (5, 6) array\n",
    "a = np.array([[ 0.24879643,  0.07032244,  0.12641572,  0.34763842,  0.07893497,\n",
    "         0.12789202],\n",
    "       [ 0.28086119,  0.27569815,  0.08594638,  0.0178669 ,  0.18063401,\n",
    "         0.15899337],\n",
    "       [ 0.26076848,  0.23664738,  0.08020603,  0.07001922,  0.1134371 ,\n",
    "         0.23892179],\n",
    "       [ 0.11943333,  0.29198961,  0.02605103,  0.26234032,  0.1351348 ,\n",
    "         0.16505091],\n",
    "       [ 0.09561176,  0.34396535,  0.0643941 ,  0.16240774,  0.24206137,\n",
    "         0.09155967]])\n",
    "```\n",
    "\n",
    "Running it through `sess.run(tf.nn.top_k(tf.constant(a), k=3))` produces:\n",
    "\n",
    "```\n",
    "TopKV2(values=array([[ 0.34763842,  0.24879643,  0.12789202],\n",
    "       [ 0.28086119,  0.27569815,  0.18063401],\n",
    "       [ 0.26076848,  0.23892179,  0.23664738],\n",
    "       [ 0.29198961,  0.26234032,  0.16505091],\n",
    "       [ 0.34396535,  0.24206137,  0.16240774]]), indices=array([[3, 0, 5],\n",
    "       [0, 1, 4],\n",
    "       [0, 5, 1],\n",
    "       [1, 3, 5],\n",
    "       [1, 4, 3]], dtype=int32))\n",
    "```\n",
    "\n",
    "Looking just at the first row we get `[ 0.34763842,  0.24879643,  0.12789202]`, you can confirm these are the 3 largest probabilities in `a`. You'll also notice `[3, 0, 5]` are the corresponding indices."
   ]
  },
  {
   "cell_type": "code",
   "execution_count": 57,
   "metadata": {},
   "outputs": [
    {
     "name": "stdout",
     "output_type": "stream",
     "text": [
      "TopKV2(values=array([[  1.00000000e+00,   9.85816585e-14,   1.12231510e-17,\n",
      "          2.37925785e-19,   2.96670730e-21],\n",
      "       [  9.99999881e-01,   7.21286284e-08,   1.09086704e-08,\n",
      "          5.54439117e-09,   1.89464133e-09],\n",
      "       [  8.57261300e-01,   1.34943798e-01,   7.19780009e-03,\n",
      "          5.91906311e-04,   3.10196015e-06],\n",
      "       [  9.99529839e-01,   3.00081330e-04,   1.69161402e-04,\n",
      "          9.18581236e-07,   2.18552199e-09],\n",
      "       [  9.99999285e-01,   7.00931821e-07,   7.57117036e-09,\n",
      "          1.85366444e-10,   8.47933580e-14]], dtype=float32), indices=array([[38, 36, 18, 34, 32],\n",
      "       [ 9, 16, 10, 23, 20],\n",
      "       [27, 24, 11, 18, 23],\n",
      "       [ 5,  2,  7,  1,  3],\n",
      "       [18, 27, 26, 24, 20]], dtype=int32))\n"
     ]
    }
   ],
   "source": [
    "### Print out the top five softmax probabilities for the predictions on the German traffic sign images found on the web. \n",
    "### Feel free to use as many code cells as needed.\n",
    "\n",
    "\n",
    "top_k = tf.nn.top_k(tf.nn.softmax(logits), k=5)\n",
    "\n",
    "\n",
    "def get_top_k(X_data):\n",
    "    sess = tf.get_default_session()\n",
    "    print(sess.run(top_k, feed_dict={x: X_data}))\n",
    "\n",
    "with tf.Session() as sess:\n",
    "    saver.restore(sess, tf.train.latest_checkpoint('.'))\n",
    "    get_top_k(X_test_german)\n",
    "\n"
   ]
  },
  {
   "cell_type": "markdown",
   "metadata": {},
   "source": [
    "### Project Writeup\n",
    "\n",
    "Once you have completed the code implementation, document your results in a project writeup using this [template](https://github.com/udacity/CarND-Traffic-Sign-Classifier-Project/blob/master/writeup_template.md) as a guide. The writeup can be in a markdown or pdf file. "
   ]
  },
  {
   "cell_type": "markdown",
   "metadata": {},
   "source": [
    "> **Note**: Once you have completed all of the code implementations and successfully answered each question above, you may finalize your work by exporting the iPython Notebook as an HTML document. You can do this by using the menu above and navigating to  \\n\",\n",
    "    \"**File -> Download as -> HTML (.html)**. Include the finished document along with this notebook as your submission."
   ]
  },
  {
   "cell_type": "markdown",
   "metadata": {},
   "source": [
    "---\n",
    "\n",
    "## Step 4 (Optional): Visualize the Neural Network's State with Test Images\n",
    "\n",
    " This Section is not required to complete but acts as an additional excersise for understaning the output of a neural network's weights. While neural networks can be a great learning device they are often referred to as a black box. We can understand what the weights of a neural network look like better by plotting their feature maps. After successfully training your neural network you can see what it's feature maps look like by plotting the output of the network's weight layers in response to a test stimuli image. From these plotted feature maps, it's possible to see what characteristics of an image the network finds interesting. For a sign, maybe the inner network feature maps react with high activation to the sign's boundary outline or to the contrast in the sign's painted symbol.\n",
    "\n",
    " Provided for you below is the function code that allows you to get the visualization output of any tensorflow weight layer you want. The inputs to the function should be a stimuli image, one used during training or a new one you provided, and then the tensorflow variable name that represents the layer's state during the training process, for instance if you wanted to see what the [LeNet lab's](https://classroom.udacity.com/nanodegrees/nd013/parts/fbf77062-5703-404e-b60c-95b78b2f3f9e/modules/6df7ae49-c61c-4bb2-a23e-6527e69209ec/lessons/601ae704-1035-4287-8b11-e2c2716217ad/concepts/d4aca031-508f-4e0b-b493-e7b706120f81) feature maps looked like for it's second convolutional layer you could enter conv2 as the tf_activation variable.\n",
    "\n",
    "For an example of what feature map outputs look like, check out NVIDIA's results in their paper [End-to-End Deep Learning for Self-Driving Cars](https://devblogs.nvidia.com/parallelforall/deep-learning-self-driving-cars/) in the section Visualization of internal CNN State. NVIDIA was able to show that their network's inner weights had high activations to road boundary lines by comparing feature maps from an image with a clear path to one without. Try experimenting with a similar test to show that your trained network's weights are looking for interesting features, whether it's looking at differences in feature maps from images with or without a sign, or even what feature maps look like in a trained network vs a completely untrained one on the same sign image.\n",
    "\n",
    "<figure>\n",
    " <img src=\"visualize_cnn.png\" width=\"380\" alt=\"Combined Image\" />\n",
    " <figcaption>\n",
    " <p></p> \n",
    " <p style=\"text-align: center;\"> Your output should look something like this (above)</p> \n",
    " </figcaption>\n",
    "</figure>\n",
    " <p></p> \n"
   ]
  },
  {
   "cell_type": "code",
   "execution_count": null,
   "metadata": {
    "collapsed": true
   },
   "outputs": [],
   "source": [
    "### Visualize your network's feature maps here.\n",
    "### Feel free to use as many code cells as needed.\n",
    "\n",
    "# image_input: the test image being fed into the network to produce the feature maps\n",
    "# tf_activation: should be a tf variable name used during your training procedure that represents the calculated state of a specific weight layer\n",
    "# activation_min/max: can be used to view the activation contrast in more detail, by default matplot sets min and max to the actual min and max values of the output\n",
    "# plt_num: used to plot out multiple different weight feature map sets on the same block, just extend the plt number for each new feature map entry\n",
    "\n",
    "def outputFeatureMap(image_input, tf_activation, activation_min=-1, activation_max=-1 ,plt_num=1):\n",
    "    # Here make sure to preprocess your image_input in a way your network expects\n",
    "    # with size, normalization, ect if needed\n",
    "    # image_input =\n",
    "    # Note: x should be the same name as your network's tensorflow data placeholder variable\n",
    "    # If you get an error tf_activation is not defined it may be having trouble accessing the variable from inside a function\n",
    "    activation = tf_activation.eval(session=sess,feed_dict={x : image_input})\n",
    "    featuremaps = activation.shape[3]\n",
    "    plt.figure(plt_num, figsize=(15,15))\n",
    "    for featuremap in range(featuremaps):\n",
    "        plt.subplot(6,8, featuremap+1) # sets the number of feature maps to show on each row and column\n",
    "        plt.title('FeatureMap ' + str(featuremap)) # displays the feature map number\n",
    "        if activation_min != -1 & activation_max != -1:\n",
    "            plt.imshow(activation[0,:,:, featuremap], interpolation=\"nearest\", vmin =activation_min, vmax=activation_max, cmap=\"gray\")\n",
    "        elif activation_max != -1:\n",
    "            plt.imshow(activation[0,:,:, featuremap], interpolation=\"nearest\", vmax=activation_max, cmap=\"gray\")\n",
    "        elif activation_min !=-1:\n",
    "            plt.imshow(activation[0,:,:, featuremap], interpolation=\"nearest\", vmin=activation_min, cmap=\"gray\")\n",
    "        else:\n",
    "            plt.imshow(activation[0,:,:, featuremap], interpolation=\"nearest\", cmap=\"gray\")"
   ]
  }
 ],
 "metadata": {
  "anaconda-cloud": {},
  "kernelspec": {
   "display_name": "Python 3",
   "language": "python",
   "name": "python3"
  },
  "language_info": {
   "codemirror_mode": {
    "name": "ipython",
    "version": 3
   },
   "file_extension": ".py",
   "mimetype": "text/x-python",
   "name": "python",
   "nbconvert_exporter": "python",
   "pygments_lexer": "ipython3",
   "version": "3.5.2"
  },
  "widgets": {
   "state": {},
   "version": "1.1.2"
  }
 },
 "nbformat": 4,
 "nbformat_minor": 1
}
